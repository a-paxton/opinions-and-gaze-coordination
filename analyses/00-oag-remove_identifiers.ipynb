{
 "cells": [
  {
   "cell_type": "markdown",
   "metadata": {},
   "source": [
    "# Opinions and Gaze: Data De-Identification (Step 0 of 3)"
   ]
  },
  {
   "cell_type": "markdown",
   "metadata": {},
   "source": [
    "This Jupyter notebook contains code for stripping out the original participant \n",
    "numeric identifiers and substitiuting them for even less identifiable ones, \n",
    "as part of \"Seeing the other side: Conflict and controversy increase gaze \n",
    "coordination\" (Paxton, Dale, & Richardson, *in preparation*)."
   ]
  },
  {
   "cell_type": "markdown",
   "metadata": {},
   "source": [
    "This notebook is the **zeroth of three** notebooks for the \"Opinions and Gaze\"\n",
    "project, as the data preceding this cannot be released. However, the code are\n",
    "shared here for maximal openness."
   ]
  },
  {
   "cell_type": "markdown",
   "metadata": {},
   "source": [
    "**Note**: Due to data sensitivity (per the Institutional Review Board of the \n",
    "University of California, Merced, where these data were collected), only \n",
    "researchers from ICPSR member institutions may access the data through the \n",
    "approved link."
   ]
  },
  {
   "cell_type": "markdown",
   "metadata": {},
   "source": [
    "**Written by**: A. Paxton (University of Connecticut)"
   ]
  },
  {
   "cell_type": "markdown",
   "metadata": {},
   "source": [
    "**Date last modified**: 03 March 2021"
   ]
  },
  {
   "cell_type": "markdown",
   "metadata": {},
   "source": [
    "## Table of contents"
   ]
  },
  {
   "cell_type": "markdown",
   "metadata": {},
   "source": [
    "* [Preliminaries](#Preliminaries)\n",
    "* [Listener data](#Listener-data)\n",
    "    * [Swap identifiers from listeners' raw SMI files](#Swap-identifiers-from-listeners'-raw-SMI-files)\n",
    "    * [Swap listener response data](#Swap-listener-response-data)\n",
    "* [Speaker data](#Speaker-data)\n",
    "    * [Swap identifiers from speakers' gaze data](#Swap-identifiers-from-speakers'-gaze-data)\n",
    "    * [Swap speaker audio data](#Swap-speaker-audio-data)\n",
    "    * [Swap segment key information](#Swap-segment-key-information)"
   ]
  },
  {
   "cell_type": "markdown",
   "metadata": {},
   "source": [
    "***"
   ]
  },
  {
   "cell_type": "markdown",
   "metadata": {},
   "source": [
    "# Preliminaries"
   ]
  },
  {
   "cell_type": "markdown",
   "metadata": {},
   "source": [
    "Import packages and set global variables."
   ]
  },
  {
   "cell_type": "code",
   "execution_count": 1,
   "metadata": {},
   "outputs": [],
   "source": [
    "import re, os, glob\n",
    "import pandas as pd"
   ]
  },
  {
   "cell_type": "markdown",
   "metadata": {},
   "source": [
    "Create or specify required paths."
   ]
  },
  {
   "cell_type": "code",
   "execution_count": 2,
   "metadata": {},
   "outputs": [],
   "source": [
    "# specify input data file path\n",
    "input_data_path = os.path.join('../data/00-raw')"
   ]
  },
  {
   "cell_type": "code",
   "execution_count": 3,
   "metadata": {},
   "outputs": [],
   "source": [
    "# create a new clean directory if it doesn't yet exist\n",
    "cleaned_data_path = os.path.join('../data/01-input')\n",
    "if not os.path.exists(cleaned_data_path):\n",
    "    os.makedirs(cleaned_data_path)"
   ]
  },
  {
   "cell_type": "markdown",
   "metadata": {},
   "source": [
    "Read in bespoke functions."
   ]
  },
  {
   "cell_type": "code",
   "execution_count": 4,
   "metadata": {},
   "outputs": [],
   "source": [
    "%run '../supplementary-code/func-swap_ids.py'"
   ]
  },
  {
   "cell_type": "code",
   "execution_count": 5,
   "metadata": {},
   "outputs": [],
   "source": [
    "%run '../supplementary-code/func-swap_ids_filename.py'"
   ]
  },
  {
   "cell_type": "markdown",
   "metadata": {},
   "source": [
    "# Listener data"
   ]
  },
  {
   "cell_type": "markdown",
   "metadata": {},
   "source": [
    "## Swap identifiers from listeners' raw SMI files"
   ]
  },
  {
   "cell_type": "code",
   "execution_count": 6,
   "metadata": {},
   "outputs": [],
   "source": [
    "# grab all of our original gaze data\n",
    "raw_listener_gaze_files = os.path.join(input_data_path,\n",
    "                                       'listener-gaze-raw/*.txt')\n",
    "gazeData = glob.glob(raw_listener_gaze_files)"
   ]
  },
  {
   "cell_type": "code",
   "execution_count": 7,
   "metadata": {},
   "outputs": [],
   "source": [
    "# create a new clean directory if it doesn't yet exist\n",
    "raw_listener_path = os.path.join(cleaned_data_path,\n",
    "                                     'listener-gaze-raw')\n",
    "if not os.path.exists(raw_listener_path):\n",
    "    os.makedirs(raw_listener_path)"
   ]
  },
  {
   "cell_type": "code",
   "execution_count": 8,
   "metadata": {},
   "outputs": [],
   "source": [
    "# grab all unique 5-digit identifiers from the list of filenames\n",
    "identifier_df = pd.DataFrame({'original_id':[re.search('\\d{5}',x).group() \n",
    "                                              for x in gazeData]})"
   ]
  },
  {
   "cell_type": "code",
   "execution_count": 9,
   "metadata": {},
   "outputs": [],
   "source": [
    "# create new identifiers\n",
    "identifier_df['new_id'] = (identifier_df.reset_index().index+1).astype(str)\n",
    "identifier_df['new_id']= identifier_df['new_id'].apply(lambda x: x.zfill(5))"
   ]
  },
  {
   "cell_type": "code",
   "execution_count": 10,
   "metadata": {
    "scrolled": true
   },
   "outputs": [],
   "source": [
    "# process each file and save a report\n",
    "swap_reports_df = pd.DataFrame()\n",
    "for gazeFile in gazeData: \n",
    "    next_swapped_report = swap_ids(in_file_path = gazeFile, \n",
    "                                   swap_identifier_df = identifier_df)\n",
    "    swap_reports_df = swap_reports_df.append(next_swapped_report)"
   ]
  },
  {
   "cell_type": "code",
   "execution_count": 11,
   "metadata": {},
   "outputs": [],
   "source": [
    "# update index\n",
    "swap_reports_df = swap_reports_df.reset_index(drop = True)"
   ]
  },
  {
   "cell_type": "code",
   "execution_count": 12,
   "metadata": {},
   "outputs": [
    {
     "data": {
      "text/plain": [
       "array([3])"
      ]
     },
     "execution_count": 12,
     "metadata": {},
     "output_type": "execute_result"
    }
   ],
   "source": [
    "# confirm that we've only got only 3 swaps per file\n",
    "swap_reports_df['diff_new'] = (swap_reports_df['swapped_new_count'] - \n",
    "                               swap_reports_df['original_new_count'])\n",
    "swap_reports_df['diff_new'].unique()"
   ]
  },
  {
   "cell_type": "markdown",
   "metadata": {},
   "source": [
    "## Swap listener response data"
   ]
  },
  {
   "cell_type": "code",
   "execution_count": 13,
   "metadata": {},
   "outputs": [],
   "source": [
    "# cycle through listener raw data\n",
    "raw_listener_response_path = os.path.join(input_data_path,\n",
    "                                          'listener-responses-raw/') \n",
    "listener_folders = glob.glob(os.path.join(raw_listener_response_path,\n",
    "                                          '*'))"
   ]
  },
  {
   "cell_type": "code",
   "execution_count": 14,
   "metadata": {},
   "outputs": [],
   "source": [
    "# create a new clean directory if it doesn't yet exist\n",
    "cleaned_listener_response_path = os.path.join(cleaned_data_path,\n",
    "                                              'listener-responses-raw')\n",
    "if not os.path.exists(cleaned_listener_response_path):\n",
    "    os.makedirs(cleaned_listener_response_path)"
   ]
  },
  {
   "cell_type": "code",
   "execution_count": 15,
   "metadata": {},
   "outputs": [],
   "source": [
    "# grab listener IDs associated with our gaze files\n",
    "unique_responders = list(set([re.findall('\\d{5}',f_name)[0] \n",
    "                             for f_name in listener_folders]))"
   ]
  },
  {
   "cell_type": "code",
   "execution_count": 16,
   "metadata": {},
   "outputs": [],
   "source": [
    "# grab all unique 5-digit identifiers from the list of filenames\n",
    "responder_id_df = pd.DataFrame({'original_responder_id':[re.search('\\d{5}',x).group() \n",
    "                                                         for x in unique_responders]})"
   ]
  },
  {
   "cell_type": "code",
   "execution_count": 17,
   "metadata": {},
   "outputs": [],
   "source": [
    "# merge questionnaire and gaze identifiers to get unique new IDs\n",
    "gaze_and_questionnaire_ids = (responder_id_df\n",
    "                              .merge(identifier_df,\n",
    "                                     left_on='original_responder_id', \n",
    "                                     right_on='original_id',\n",
    "                                     how='outer')\n",
    "                             .sort_values(by='new_id')\n",
    "                             .reset_index(drop=True))"
   ]
  },
  {
   "cell_type": "code",
   "execution_count": 18,
   "metadata": {},
   "outputs": [],
   "source": [
    "# grab folks who were missing and give them new sequential IDs\n",
    "formerly_missing_df = (gaze_and_questionnaire_ids\n",
    "                       .loc[gaze_and_questionnaire_ids['new_id'].isna()]\n",
    "                       .reset_index()\n",
    "                       .drop(columns=\"new_id\")\n",
    "                       .rename(columns = {\"index\":\"new_id\"}))\n",
    "formerly_missing_df['new_id']= formerly_missing_df['new_id'].apply(\n",
    "    lambda x: str(x+1).zfill(5))"
   ]
  },
  {
   "cell_type": "code",
   "execution_count": 19,
   "metadata": {},
   "outputs": [
    {
     "name": "stderr",
     "output_type": "stream",
     "text": [
      "/anaconda3/lib/python3.7/site-packages/pandas/core/frame.py:6211: FutureWarning: Sorting because non-concatenation axis is not aligned. A future version\n",
      "of pandas will change to not sort by default.\n",
      "\n",
      "To accept the future behavior, pass 'sort=False'.\n",
      "\n",
      "To retain the current behavior and silence the warning, pass 'sort=True'.\n",
      "\n",
      "  sort=sort)\n"
     ]
    }
   ],
   "source": [
    "# append questionnaire-only participants to gaze and questionnaire dataframe\n",
    "gaze_and_questionnaire_ids = (gaze_and_questionnaire_ids\n",
    "                              .append(formerly_missing_df)\n",
    "                              .dropna(axis=0,\n",
    "                                      subset=[\"new_id\"])\n",
    "                              .reset_index(drop=True)\n",
    "                              .drop(columns=\"original_id\")\n",
    "                              .rename(columns = {\"original_responder_id\":\"original_id\"}))"
   ]
  },
  {
   "cell_type": "code",
   "execution_count": 20,
   "metadata": {
    "scrolled": true
   },
   "outputs": [],
   "source": [
    "# process each file and save a report\n",
    "swap_questionnaire_reports_df = pd.DataFrame()\n",
    "for listener_file in listener_folders: \n",
    "    next_swapped_report = swap_ids(in_file_path = listener_file, \n",
    "                                   swap_identifier_df = gaze_and_questionnaire_ids)\n",
    "    swap_questionnaire_reports_df = swap_questionnaire_reports_df.append(next_swapped_report)"
   ]
  },
  {
   "cell_type": "code",
   "execution_count": 21,
   "metadata": {},
   "outputs": [],
   "source": [
    "# update index\n",
    "swap_questionnaire_reports_df = (swap_questionnaire_reports_df\n",
    "                                 .sort_values(by=\"new_id\")\n",
    "                                 .reset_index(drop = True))"
   ]
  },
  {
   "cell_type": "markdown",
   "metadata": {},
   "source": [
    "# Speaker data"
   ]
  },
  {
   "cell_type": "markdown",
   "metadata": {},
   "source": [
    "## Swap identifiers from speakers' gaze data"
   ]
  },
  {
   "cell_type": "code",
   "execution_count": 22,
   "metadata": {},
   "outputs": [],
   "source": [
    "# grab speakers' raw gaze data\n",
    "raw_speaker_gaze_path = os.path.join(input_data_path,\n",
    "                                     'speaker-gaze-raw')\n",
    "gazeData = glob.glob(os.path.join(raw_speaker_gaze_path,\n",
    "                                  '*.txt'))"
   ]
  },
  {
   "cell_type": "code",
   "execution_count": 23,
   "metadata": {},
   "outputs": [],
   "source": [
    "# create a new clean directory if it doesn't yet exist\n",
    "prepped_speaker_path = os.path.join(cleaned_data_path,\n",
    "                                    'speaker-gaze-raw')\n",
    "if not os.path.exists(prepped_speaker_path):\n",
    "    os.makedirs(prepped_speaker_path)"
   ]
  },
  {
   "cell_type": "code",
   "execution_count": 24,
   "metadata": {},
   "outputs": [],
   "source": [
    "# grab speaker IDs associated with our gaze files\n",
    "unique_speakers = list(set([re.findall('\\d{5}',f_name)[0] \n",
    "                             for f_name in gazeData]))"
   ]
  },
  {
   "cell_type": "code",
   "execution_count": 25,
   "metadata": {},
   "outputs": [],
   "source": [
    "# grab all unique 5-digit identifiers from the list of filenames\n",
    "speaker_id_df = pd.DataFrame({'original_id':[re.search('\\d{5}',x).group() \n",
    "                                                         for x in unique_speakers]})"
   ]
  },
  {
   "cell_type": "code",
   "execution_count": 26,
   "metadata": {},
   "outputs": [],
   "source": [
    "# create new identifiers\n",
    "speaker_id_df['new_id'] = (speaker_id_df.reset_index().index+99991).astype(str)\n",
    "speaker_id_df['new_id']= speaker_id_df['new_id'].apply(lambda x: x.zfill(5))"
   ]
  },
  {
   "cell_type": "code",
   "execution_count": 27,
   "metadata": {},
   "outputs": [],
   "source": [
    "# process each file and save a report\n",
    "swap_speaker_reports_df = pd.DataFrame()\n",
    "for gazeFile in gazeData: \n",
    "    next_swapped_report = swap_ids(in_file_path = gazeFile, \n",
    "                                   swap_identifier_df = speaker_id_df)\n",
    "    swap_speaker_reports_df = swap_speaker_reports_df.append(next_swapped_report)"
   ]
  },
  {
   "cell_type": "code",
   "execution_count": 28,
   "metadata": {},
   "outputs": [],
   "source": [
    "# update index\n",
    "swap_speaker_reports_df = swap_speaker_reports_df.reset_index(drop = True)"
   ]
  },
  {
   "cell_type": "code",
   "execution_count": 29,
   "metadata": {},
   "outputs": [
    {
     "data": {
      "text/plain": [
       "array([3])"
      ]
     },
     "execution_count": 29,
     "metadata": {},
     "output_type": "execute_result"
    }
   ],
   "source": [
    "# confirm that we've only got only 3 swaps per file\n",
    "swap_speaker_reports_df['diff_new'] = (swap_speaker_reports_df['swapped_new_count'] - \n",
    "                                       swap_speaker_reports_df['original_new_count'])\n",
    "swap_speaker_reports_df['diff_new'].unique()"
   ]
  },
  {
   "cell_type": "markdown",
   "metadata": {},
   "source": [
    "## Swap speaker audio data"
   ]
  },
  {
   "cell_type": "markdown",
   "metadata": {},
   "source": [
    "Speakers' audio data files only include their identifiers in their filename."
   ]
  },
  {
   "cell_type": "code",
   "execution_count": 30,
   "metadata": {},
   "outputs": [],
   "source": [
    "# specify path to speakers' audio data\n",
    "speaker_audio_path = os.path.join(input_data_path,\n",
    "                                  'speaker-audio_outputs')\n",
    "audioData = glob.glob(os.path.join(speaker_audio_path,\n",
    "                                   '*.csv'))"
   ]
  },
  {
   "cell_type": "code",
   "execution_count": 31,
   "metadata": {},
   "outputs": [],
   "source": [
    "# create a new clean directory if it doesn't yet exist\n",
    "prepped_speaker_path = os.path.join(cleaned_data_path,\n",
    "                                    'speaker-audio_outputs')\n",
    "if not os.path.exists(prepped_speaker_path):\n",
    "    os.makedirs(prepped_speaker_path)"
   ]
  },
  {
   "cell_type": "code",
   "execution_count": 32,
   "metadata": {},
   "outputs": [],
   "source": [
    "# process each file\n",
    "swap_speaker_audio_reports_df = pd.DataFrame()\n",
    "for audioFile in audioData: \n",
    "    swap_ids_filename(in_file_path = audioFile, \n",
    "                      swap_identifier_df = speaker_id_df)"
   ]
  },
  {
   "cell_type": "markdown",
   "metadata": {},
   "source": [
    "## Swap segment key information"
   ]
  },
  {
   "cell_type": "code",
   "execution_count": 33,
   "metadata": {},
   "outputs": [],
   "source": [
    "# specify path to speakers' segment data\n",
    "speaker_segment_data = os.path.join(input_data_path,\n",
    "                                  'speaker-segment_key.csv')"
   ]
  },
  {
   "cell_type": "code",
   "execution_count": 34,
   "metadata": {},
   "outputs": [],
   "source": [
    "# read in file\n",
    "speakers_segment_df = pd.read_csv(speaker_segment_data)\n",
    "speakers_segment_df['speaker'] = speakers_segment_df['speaker'].astype(str)"
   ]
  },
  {
   "cell_type": "code",
   "execution_count": 35,
   "metadata": {},
   "outputs": [],
   "source": [
    "# merge with speaker ID data\n",
    "speakers_swapped_segment_df = (speakers_segment_df\n",
    "                               .merge(speaker_id_df,\n",
    "                                      left_on = \"speaker\",\n",
    "                                      right_on = \"original_id\")\n",
    "                              .drop(columns=[\"speaker\", \"original_id\"])\n",
    "                              .rename(columns = {\"new_id\":\"speaker\"}))\n",
    "speakers_swapped_segment_df = speakers_swapped_segment_df[[\"speaker\", \"topic\", \"side\"]]"
   ]
  },
  {
   "cell_type": "code",
   "execution_count": 36,
   "metadata": {},
   "outputs": [],
   "source": [
    "# write to file\n",
    "speaker_swapped_filepath = os.path.join(cleaned_data_path,\n",
    "                                        'speaker-segment_key.csv')\n",
    "speakers_swapped_segment_df.to_csv(path_or_buf=speaker_swapped_filepath,\n",
    "                                   index=False)"
   ]
  }
 ],
 "metadata": {
  "kernelspec": {
   "display_name": "Python 3",
   "language": "python",
   "name": "python3"
  },
  "language_info": {
   "codemirror_mode": {
    "name": "ipython",
    "version": 3
   },
   "file_extension": ".py",
   "mimetype": "text/x-python",
   "name": "python",
   "nbconvert_exporter": "python",
   "pygments_lexer": "ipython3",
   "version": "3.7.5"
  }
 },
 "nbformat": 4,
 "nbformat_minor": 4
}
